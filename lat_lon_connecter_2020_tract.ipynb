{
 "cells": [
  {
   "cell_type": "code",
   "execution_count": 1,
   "metadata": {},
   "outputs": [],
   "source": [
    "filepath = 'C:\\\\districting-data-2020\\\\'\n",
    "\n",
    "# 1. Code takes Daryl's block-level .json files and \n",
    "#    adds the lat/lon coordinates to the nodes\n",
    "#    (based on the census shapefiles)\n",
    "#\n",
    "outfilepath1 = 'C:\\\\districting-data-2020-lat-lon\\\\'\n",
    "\n",
    "# 2. Then connects any disconnected graphs by adding\n",
    "#    a minimum length subset of edges.\n",
    "#\n",
    "outfilepath2 = 'C:\\\\districting-data-2020-conn\\\\'"
   ]
  },
  {
   "cell_type": "code",
   "execution_count": 2,
   "metadata": {},
   "outputs": [],
   "source": [
    "import geopandas as gpd\n",
    "from gerrychain import Graph\n",
    "import networkx as nx"
   ]
  },
  {
   "cell_type": "code",
   "execution_count": 3,
   "metadata": {},
   "outputs": [],
   "source": [
    "state_codes = {\n",
    "    'WA': '53', 'DE': '10', 'WI': '55', 'WV': '54', 'HI': '15',\n",
    "    'FL': '12', 'WY': '56', 'NJ': '34', 'NM': '35', 'TX': '48',\n",
    "    'LA': '22', 'NC': '37', 'ND': '38', 'NE': '31', 'TN': '47', 'NY': '36',\n",
    "    'PA': '42', 'AK': '02', 'NV': '32', 'NH': '33', 'VA': '51', 'CO': '08',\n",
    "    'CA': '06', 'AL': '01', 'AR': '05', 'VT': '50', 'IL': '17', 'GA': '13',\n",
    "    'IN': '18', 'IA': '19', 'MA': '25', 'AZ': '04', 'ID': '16', 'CT': '09',\n",
    "    'ME': '23', 'MD': '24', 'OK': '40', 'OH': '39', 'UT': '49', 'MO': '29',\n",
    "    'MN': '27', 'MI': '26', 'RI': '44', 'KS': '20', 'MT': '30', 'MS': '28',\n",
    "    'SC': '45', 'KY': '21', 'OR': '41', 'SD': '46'\n",
    "}"
   ]
  },
  {
   "cell_type": "code",
   "execution_count": 4,
   "metadata": {},
   "outputs": [],
   "source": [
    "import json\n",
    "from networkx.readwrite import json_graph\n",
    "\n",
    "def write_graph_to_json(graph, json_file):\n",
    "    data = json_graph.adjacency_data(graph)\n",
    "    with open(json_file, \"w\") as f:\n",
    "        json.dump(data,f)\n",
    "    return"
   ]
  },
  {
   "cell_type": "code",
   "execution_count": 5,
   "metadata": {},
   "outputs": [],
   "source": [
    "from math import cos, asin, sqrt, pi\n",
    "\n",
    "# get approximate distance between lat/long coordinates:\n",
    "# https://stackoverflow.com/questions/27928/calculate-distance-between-two-latitude-longitude-points-haversine-formula?noredirect=1&lq=1\n",
    "def apx_dist(lat1, lon1, lat2, lon2):\n",
    "    p = pi/180\n",
    "    a = 0.5 - cos((lat2-lat1)*p)/2 + cos(lat1*p) * cos(lat2*p) * (1-cos((lon2-lon1)*p))/2\n",
    "    return 12.742 * asin(sqrt(a)) #2*R*asin..."
   ]
  },
  {
   "cell_type": "code",
   "execution_count": null,
   "metadata": {},
   "outputs": [
    {
     "name": "stdout",
     "output_type": "stream",
     "text": [
      "Beginning state WA\n",
      "Graph is already connected.\n",
      "\n",
      "Beginning state DE\n",
      "Graph is already connected.\n",
      "\n",
      "Beginning state WI\n",
      "Graph is already connected.\n",
      "\n",
      "Beginning state WV\n",
      "Graph is already connected.\n",
      "\n",
      "Beginning state HI\n"
     ]
    },
    {
     "name": "stderr",
     "output_type": "stream",
     "text": [
      "C:\\Users\\buchanan\\Anaconda3\\lib\\site-packages\\gerrychain\\graph\\graph.py:239: UserWarning: Found islands (degree-0 nodes). Indices of islands: {214}\n",
      "  \"Found islands (degree-0 nodes). Indices of islands: {}\".format(islands)\n"
     ]
    },
    {
     "name": "stdout",
     "output_type": "stream",
     "text": [
      "Component 0 has this many nodes: 60\n",
      "Component 1 has this many nodes: 329\n",
      "Component 2 has this many nodes: 43\n",
      "Component 3 has this many nodes: 2\n",
      "Component 4 has this many nodes: 5\n",
      "Component 5 has this many nodes: 18\n",
      "Component 6 has this many nodes: 1\n",
      "Component 7 has this many nodes: 3\n",
      "Spanning tree edges in H are = [(0, 2), (1, 4), (1, 5), (2, 4), (3, 4), (5, 7), (6, 7)]\n",
      "Adding these edges to G = [(318, 134), (241, 182), (344, 224), (268, 156), (269, 156), (225, 254), (214, 324)]\n",
      "Their GEOIDs are = [('15001991200', '15009030100'), ('15003000110', '15009031801'), ('15003009801', '15007040500'), ('15009031501', '15009031700'), ('15009991200', '15009031700'), ('15007040900', '15007041200'), ('15003981200', '15007990300')]\n",
      "After adding these edges, is G now connected? True\n",
      "\n",
      "Beginning state FL\n"
     ]
    },
    {
     "name": "stderr",
     "output_type": "stream",
     "text": [
      "C:\\Users\\buchanan\\Anaconda3\\lib\\site-packages\\gerrychain\\graph\\graph.py:239: UserWarning: Found islands (degree-0 nodes). Indices of islands: {1636}\n",
      "  \"Found islands (degree-0 nodes). Indices of islands: {}\".format(islands)\n"
     ]
    },
    {
     "name": "stdout",
     "output_type": "stream",
     "text": [
      "Component 0 has this many nodes: 5159\n",
      "Component 1 has this many nodes: 1\n",
      "Spanning tree edges in H are = [(0, 1)]\n",
      "Adding these edges to G = [(2077, 1636)]\n",
      "Their GEOIDs are = [('12087972500', '12087980100')]\n",
      "After adding these edges, is G now connected? True\n",
      "\n",
      "Beginning state WY\n",
      "Graph is already connected.\n",
      "\n",
      "Beginning state NJ\n"
     ]
    }
   ],
   "source": [
    "for state in state_codes.keys():\n",
    "    \n",
    "    print(\"Beginning state\",state)\n",
    "    \n",
    "    # read graph from file\n",
    "    graphfile = state + '_tract.json'\n",
    "    G = Graph.from_json( filepath + graphfile )\n",
    "\n",
    "    # read the shapefile\n",
    "    shpfile = state + '_tract.shp'\n",
    "    df = gpd.read_file( filepath + shpfile )\n",
    "    \n",
    "    # add the lat/lon coordinates to graph (based on shapefile)\n",
    "    geoid_to_node = { G.nodes[i]['GEOID20'] : i for i in G.nodes }\n",
    "    for u in range(len(G.nodes)):\n",
    "        geoid = df['GEOID20'][u]\n",
    "        i = geoid_to_node[geoid]\n",
    "        G.nodes[i]['INTPTLAT20'] = float( df['INTPTLAT20'][u] )\n",
    "        G.nodes[i]['INTPTLON20'] = float( df['INTPTLON20'][u] )\n",
    "        \n",
    "    # write the lat/lon-adjusted graph to output1\n",
    "    write_graph_to_json(G, outfilepath1 + graphfile)\n",
    "    \n",
    "    # is graph connected?\n",
    "    if nx.is_connected(G):\n",
    "        \n",
    "        print(\"Graph is already connected.\")\n",
    "        \n",
    "    else:\n",
    "        \n",
    "        # if not, then connect it with least-cost edges\n",
    "        components = list(nx.connected_components(G))\n",
    "        H = nx.complete_graph(len(components))\n",
    "\n",
    "        for c in range(len(components)):\n",
    "            component = components[c]\n",
    "            print(\"Component\",c,\"has this many nodes:\",len(component))\n",
    "\n",
    "        for i,j in H.edges:\n",
    "\n",
    "            min_dist = 999999999999.0 # some large number\n",
    "            min_dist_edge = None\n",
    "\n",
    "            for u in components[i]:\n",
    "\n",
    "                lat1 = G.nodes[u]['INTPTLAT20']\n",
    "                lon1 = G.nodes[u]['INTPTLON20']\n",
    "\n",
    "                for v in components[j]:\n",
    "\n",
    "                    lat2 = G.nodes[v]['INTPTLAT20']\n",
    "                    lon2 = G.nodes[v]['INTPTLON20']\n",
    "\n",
    "                    dist = apx_dist(lat1, lon1, lat2, lon2)\n",
    "\n",
    "                    if dist < min_dist:\n",
    "\n",
    "                        min_dist = dist\n",
    "                        min_dist_edge = (u,v)\n",
    "\n",
    "            H.edges[i,j]['weight'] = min_dist\n",
    "            H.edges[i,j]['G_edge'] = min_dist_edge\n",
    "\n",
    "        # find min span tree of H\n",
    "        T = nx.minimum_spanning_tree(H,weight='weight')\n",
    "        print(\"Spanning tree edges in H are =\",T.edges)\n",
    "\n",
    "        # which edges does this correspond to in G?\n",
    "        edges_to_add = [ T.edges[i,j]['G_edge'] for i,j in T.edges ]\n",
    "        print(\"Adding these edges to G =\",edges_to_add)\n",
    "        G.add_edges_from(edges_to_add)\n",
    "\n",
    "        # print their GEOIDs for later reference\n",
    "        added_edges_geoids = [ ( G.nodes[i]['GEOID20'], G.nodes[j]['GEOID20'] ) for i,j in edges_to_add ]\n",
    "        print(\"Their GEOIDs are =\",added_edges_geoids)\n",
    "\n",
    "        # make sure G is now connected\n",
    "        print(\"After adding these edges, is G now connected?\",nx.is_connected(G))\n",
    "        \n",
    "    print(\"\")\n",
    "    # write the lat/lon-adjusted *and connected* graph to output2\n",
    "    write_graph_to_json(G, outfilepath2 + graphfile)"
   ]
  },
  {
   "cell_type": "code",
   "execution_count": null,
   "metadata": {},
   "outputs": [],
   "source": []
  }
 ],
 "metadata": {
  "kernelspec": {
   "display_name": "Python 3",
   "language": "python",
   "name": "python3"
  },
  "language_info": {
   "codemirror_mode": {
    "name": "ipython",
    "version": 3
   },
   "file_extension": ".py",
   "mimetype": "text/x-python",
   "name": "python",
   "nbconvert_exporter": "python",
   "pygments_lexer": "ipython3",
   "version": "3.7.10"
  }
 },
 "nbformat": 4,
 "nbformat_minor": 4
}
