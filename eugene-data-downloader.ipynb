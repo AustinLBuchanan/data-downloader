{
 "cells": [
  {
   "cell_type": "code",
   "execution_count": 1,
   "metadata": {},
   "outputs": [
    {
     "data": {
      "text/plain": [
       "2415876"
      ]
     },
     "execution_count": 1,
     "metadata": {},
     "output_type": "execute_result"
    }
   ],
   "source": [
    "# EXAMPLE CODE FOR ALABAMA'S DATA\n",
    "\n",
    "import requests\n",
    "\n",
    "url = 'https://lykhovyd.com/files/public/districting/AL/counties/maps/AL_counties.shp'\n",
    "\n",
    "# AL_counties.dbf                                    28-Sep-2018 19:49              155180\n",
    "# AL_counties.prj                                    28-Sep-2018 19:49                 165\n",
    "# AL_counties.qpj                                    28-Sep-2018 19:49                 298\n",
    "# AL_counties.shp                                    28-Sep-2018 19:49             2415876\n",
    "# AL_counties.shx  \n",
    "\n",
    "myfile = requests.get(url)\n",
    "\n",
    "open('C://districting-data-2010//AL_county.shp', 'wb').write(myfile.content)"
   ]
  },
  {
   "cell_type": "code",
   "execution_count": 4,
   "metadata": {},
   "outputs": [],
   "source": [
    "state_codes = {\n",
    "    'WA': '53', 'DE': '10', 'WI': '55', 'WV': '54', 'HI': '15',\n",
    "    'FL': '12', 'WY': '56', 'NJ': '34', 'NM': '35', 'TX': '48',\n",
    "    'LA': '22', 'NC': '37', 'ND': '38', 'NE': '31', 'TN': '47', 'NY': '36',\n",
    "    'PA': '42', 'AK': '02', 'NV': '32', 'NH': '33', 'VA': '51', 'CO': '08',\n",
    "    'CA': '06', 'AL': '01', 'AR': '05', 'VT': '50', 'IL': '17', 'GA': '13',\n",
    "    'IN': '18', 'IA': '19', 'MA': '25', 'AZ': '04', 'ID': '16', 'CT': '09',\n",
    "    'ME': '23', 'MD': '24', 'OK': '40', 'OH': '39', 'UT': '49', 'MO': '29',\n",
    "    'MN': '27', 'MI': '26', 'RI': '44', 'KS': '20', 'MT': '30', 'MS': '28',\n",
    "    'SC': '45', 'KY': '21', 'OR': '41', 'SD': '46'\n",
    "}"
   ]
  },
  {
   "cell_type": "code",
   "execution_count": 7,
   "metadata": {},
   "outputs": [],
   "source": [
    "# get county-level .json files\n",
    "url1 = 'https://lykhovyd.com/files/public/districting/'\n",
    "url2 = '/counties/maps/'\n",
    "filepath = 'C://districting-data-2010//'\n",
    "\n",
    "for state in state_codes.keys():\n",
    "    \n",
    "    for fx in {'.shp', '.shx', '.dbf', '.prj', '.qpj'}:\n",
    "    \n",
    "        myfile = requests.get(url1+state+url2+state+'_counties'+fx)\n",
    "        \n",
    "        open(filepath+state+'_county'+fx, 'wb').write(myfile.content)"
   ]
  },
  {
   "cell_type": "code",
   "execution_count": 8,
   "metadata": {},
   "outputs": [],
   "source": [
    "# https://lykhovyd.com/files/public/districting/AL/census_tracts/maps/AL_tracts.shp\n",
    "\n",
    "# get county-level .json files\n",
    "url1 = 'https://lykhovyd.com/files/public/districting/'\n",
    "url2 = '/census_tracts/maps/'\n",
    "filepath = 'C://districting-data-2010//'\n",
    "\n",
    "for state in state_codes.keys():\n",
    "    \n",
    "    fips2 = state_codes[state]\n",
    "    \n",
    "    for fx in {'.shp', '.shx', '.dbf', '.prj', '.qpj', '.cpg'}:\n",
    "    \n",
    "        myfile = requests.get(url1+state+url2+state+'_tracts'+fx)\n",
    "        \n",
    "        open(filepath+state+'_tract'+fx, 'wb').write(myfile.content)"
   ]
  },
  {
   "cell_type": "code",
   "execution_count": null,
   "metadata": {},
   "outputs": [],
   "source": []
  }
 ],
 "metadata": {
  "kernelspec": {
   "display_name": "Python 3",
   "language": "python",
   "name": "python3"
  },
  "language_info": {
   "codemirror_mode": {
    "name": "ipython",
    "version": 3
   },
   "file_extension": ".py",
   "mimetype": "text/x-python",
   "name": "python",
   "nbconvert_exporter": "python",
   "pygments_lexer": "ipython3",
   "version": "3.7.10"
  }
 },
 "nbformat": 4,
 "nbformat_minor": 4
}
