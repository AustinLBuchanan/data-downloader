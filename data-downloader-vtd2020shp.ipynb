{
 "cells": [
  {
   "cell_type": "code",
   "execution_count": 1,
   "metadata": {},
   "outputs": [],
   "source": [
    "## EXAMPLE CODE FOR ALABAMA'S DATA\n",
    "\n",
    "import requests\n",
    "\n",
    "# url = 'https://people.csail.mit.edu/ddeford/COUNTY/COUNTY_01.json'\n",
    "\n",
    "# myfile = requests.get(url)\n",
    "\n",
    "# open('C://districting-data-2010//AL_county.json', 'wb').write(myfile.content)"
   ]
  },
  {
   "cell_type": "code",
   "execution_count": 2,
   "metadata": {},
   "outputs": [],
   "source": [
    "state_codes = {\n",
    "    'WA': '53', 'DE': '10', 'WI': '55', 'WV': '54', 'HI': '15',\n",
    "    'FL': '12', 'WY': '56', 'NJ': '34', 'NM': '35', 'TX': '48',\n",
    "    'LA': '22', 'NC': '37', 'ND': '38', 'NE': '31', 'TN': '47', 'NY': '36',\n",
    "    'PA': '42', 'AK': '02', 'NV': '32', 'NH': '33', 'VA': '51', 'CO': '08',\n",
    "    'CA': '06', 'AL': '01', 'AR': '05', 'VT': '50', 'IL': '17', 'GA': '13',\n",
    "    'IN': '18', 'IA': '19', 'MA': '25', 'AZ': '04', 'ID': '16', 'CT': '09',\n",
    "    'ME': '23', 'MD': '24', 'OK': '40', 'OH': '39', 'UT': '49', 'MO': '29',\n",
    "    'MN': '27', 'MI': '26', 'RI': '44', 'KS': '20', 'MT': '30', 'MS': '28',\n",
    "    'SC': '45', 'KY': '21', 'OR': '41', 'SD': '46'\n",
    "}"
   ]
  },
  {
   "cell_type": "code",
   "execution_count": 4,
   "metadata": {},
   "outputs": [],
   "source": [
    "# get block assignment files\n",
    "url = 'https://www2.census.gov/geo/tiger/GENZ2020/shp/'\n",
    "filepath = 'C://districting-data-2020//'\n",
    "\n",
    "#https://www2.census.gov/geo/tiger/GENZ2020/shp/cb_2020_01_vtd_500k.zip\n",
    "\n",
    "for state in state_codes.keys():\n",
    "    fips2 = state_codes[state]\n",
    "    myfile = requests.get(url+'cb_2020_'+fips2+'_vtd_500k.zip')\n",
    "    open(filepath+state+'_vtd_shp.zip', 'wb').write(myfile.content)"
   ]
  },
  {
   "cell_type": "code",
   "execution_count": 5,
   "metadata": {},
   "outputs": [
    {
     "name": "stdout",
     "output_type": "stream",
     "text": [
      "Extracted all\n",
      "Extracted all\n",
      "Extracted all\n",
      "Extracted all\n",
      "Invalid file\n",
      "Extracted all\n",
      "Extracted all\n",
      "Extracted all\n",
      "Extracted all\n",
      "Extracted all\n",
      "Extracted all\n",
      "Extracted all\n",
      "Extracted all\n",
      "Extracted all\n",
      "Extracted all\n",
      "Extracted all\n",
      "Extracted all\n",
      "Extracted all\n",
      "Extracted all\n",
      "Extracted all\n",
      "Extracted all\n",
      "Extracted all\n",
      "Invalid file\n",
      "Extracted all\n",
      "Extracted all\n",
      "Extracted all\n",
      "Extracted all\n",
      "Extracted all\n",
      "Extracted all\n",
      "Extracted all\n",
      "Extracted all\n",
      "Extracted all\n",
      "Extracted all\n",
      "Extracted all\n",
      "Extracted all\n",
      "Extracted all\n",
      "Extracted all\n",
      "Extracted all\n",
      "Extracted all\n",
      "Extracted all\n",
      "Extracted all\n",
      "Extracted all\n",
      "Extracted all\n",
      "Extracted all\n",
      "Extracted all\n",
      "Extracted all\n",
      "Extracted all\n",
      "Extracted all\n",
      "Invalid file\n",
      "Extracted all\n"
     ]
    }
   ],
   "source": [
    "# unzip baf's\n",
    "import zipfile\n",
    " \n",
    "for state in state_codes.keys():\n",
    "    zip_file = filepath + state +\"_vtd_shp.zip\"\n",
    "    try:\n",
    "        with zipfile.ZipFile(zip_file) as z:\n",
    "            z.extractall()\n",
    "            print(\"Extracted all\")\n",
    "    except:\n",
    "        print(\"Invalid file\")"
   ]
  },
  {
   "cell_type": "code",
   "execution_count": 9,
   "metadata": {},
   "outputs": [],
   "source": [
    "import os"
   ]
  },
  {
   "cell_type": "code",
   "execution_count": 11,
   "metadata": {},
   "outputs": [],
   "source": [
    "# rename the files\n",
    "for state in state_codes.keys():\n",
    "    \n",
    "    # skip states that didn't participate in census vtd program\n",
    "    if state in {'CA','HI','OR'}:\n",
    "        continue\n",
    "\n",
    "    # for all 5 file extensions\n",
    "    for fx in {'cpg', 'dbf', 'prj', 'shp', 'shx'}: # 'shp.ea.iso', 'shp.iso'\n",
    "\n",
    "        # example: cb_2020_40_vtd_500k.shp\n",
    "        old_file = filepath + 'cb_2020_' +state_codes[state] + '_vtd_500k.' + fx\n",
    "        new_file = filepath + state + '_vtd.' + fx\n",
    "        os.rename(old_file, new_file)"
   ]
  },
  {
   "cell_type": "code",
   "execution_count": null,
   "metadata": {},
   "outputs": [],
   "source": []
  }
 ],
 "metadata": {
  "kernelspec": {
   "display_name": "Python 3 (ipykernel)",
   "language": "python",
   "name": "python3"
  },
  "language_info": {
   "codemirror_mode": {
    "name": "ipython",
    "version": 3
   },
   "file_extension": ".py",
   "mimetype": "text/x-python",
   "name": "python",
   "nbconvert_exporter": "python",
   "pygments_lexer": "ipython3",
   "version": "3.11.7"
  }
 },
 "nbformat": 4,
 "nbformat_minor": 4
}
